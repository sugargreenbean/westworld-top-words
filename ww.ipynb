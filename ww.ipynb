{
 "cells": [
  {
   "cell_type": "code",
   "execution_count": 1,
   "metadata": {
    "collapsed": false
   },
   "outputs": [],
   "source": [
    "import csv\n",
    "import pandas as pd\n",
    "import numpy as np\n",
    "import operator\n",
    "from stop_words import get_stop_words"
   ]
  },
  {
   "cell_type": "code",
   "execution_count": 2,
   "metadata": {
    "collapsed": true
   },
   "outputs": [],
   "source": [
    "stop_words = get_stop_words('en')"
   ]
  },
  {
   "cell_type": "code",
   "execution_count": 3,
   "metadata": {
    "collapsed": true
   },
   "outputs": [],
   "source": [
    "custom_stop_words = ['get', 'gets', 'back', 'something', 'just', 'like', 'one', 'gonna', 'think', 'know', 'hey', \n",
    "                    'will', 'well', 'things', 'can', 'us', 'got', 'need', 'never', 'tell', 'i-i', 'make', 'come',\n",
    "                    'go', 'see', 'make', 'want', 'now', 'enough', 'last', 'new', 'going', 'first', 'right',\n",
    "                    'thing', 'time', 'said', 'oh', 'still', 'always', 'anyone', 'put', 'take', 'wyatt\\'s',\n",
    "                    'little', 'yeah', 'right?', 'yes', 'me?', 'took', 'really', 'woah', 'say', 'whoa',\n",
    "                    'getting', 'someone', 'way']"
   ]
  },
  {
   "cell_type": "code",
   "execution_count": 4,
   "metadata": {
    "collapsed": false
   },
   "outputs": [
    {
     "data": {
      "text/html": [
       "<div>\n",
       "<style>\n",
       "    .dataframe thead tr:only-child th {\n",
       "        text-align: right;\n",
       "    }\n",
       "\n",
       "    .dataframe thead th {\n",
       "        text-align: left;\n",
       "    }\n",
       "\n",
       "    .dataframe tbody tr th {\n",
       "        vertical-align: top;\n",
       "    }\n",
       "</style>\n",
       "<table border=\"1\" class=\"dataframe\">\n",
       "  <thead>\n",
       "    <tr style=\"text-align: right;\">\n",
       "      <th></th>\n",
       "      <th>line</th>\n",
       "      <th>name</th>\n",
       "    </tr>\n",
       "  </thead>\n",
       "  <tbody>\n",
       "    <tr>\n",
       "      <th>0</th>\n",
       "      <td>Bring her back online. Can you hear me?</td>\n",
       "      <td>Unknown</td>\n",
       "    </tr>\n",
       "    <tr>\n",
       "      <th>1</th>\n",
       "      <td>Yes. I'm sorry. I'm not feeling quite myself.</td>\n",
       "      <td>Dolores</td>\n",
       "    </tr>\n",
       "    <tr>\n",
       "      <th>2</th>\n",
       "      <td>You can lose the accent. Do you know where you...</td>\n",
       "      <td>Unknown</td>\n",
       "    </tr>\n",
       "    <tr>\n",
       "      <th>3</th>\n",
       "      <td>I'm in a dream.</td>\n",
       "      <td>Dolores</td>\n",
       "    </tr>\n",
       "    <tr>\n",
       "      <th>4</th>\n",
       "      <td>That's right, Dolores. You're in a dream. Woul...</td>\n",
       "      <td>Unknown</td>\n",
       "    </tr>\n",
       "    <tr>\n",
       "      <th>5</th>\n",
       "      <td>Yes. I'm terrified.</td>\n",
       "      <td>Dolores</td>\n",
       "    </tr>\n",
       "    <tr>\n",
       "      <th>6</th>\n",
       "      <td>There's nothing to be afraid of, Dolores, as l...</td>\n",
       "      <td>Unknown</td>\n",
       "    </tr>\n",
       "    <tr>\n",
       "      <th>7</th>\n",
       "      <td>Yes.</td>\n",
       "      <td>Dolores</td>\n",
       "    </tr>\n",
       "    <tr>\n",
       "      <th>8</th>\n",
       "      <td>Good. First have you ever questioned the natur...</td>\n",
       "      <td>Unknown</td>\n",
       "    </tr>\n",
       "    <tr>\n",
       "      <th>9</th>\n",
       "      <td>No.</td>\n",
       "      <td>Dolores</td>\n",
       "    </tr>\n",
       "    <tr>\n",
       "      <th>10</th>\n",
       "      <td>Tell us what you think of your world.</td>\n",
       "      <td>Unknown</td>\n",
       "    </tr>\n",
       "    <tr>\n",
       "      <th>11</th>\n",
       "      <td>Some people choose to see the ugliness in this...</td>\n",
       "      <td>Dolores</td>\n",
       "    </tr>\n",
       "    <tr>\n",
       "      <th>12</th>\n",
       "      <td>Morning, Daddy. You sleep well?</td>\n",
       "      <td>Dolores</td>\n",
       "    </tr>\n",
       "    <tr>\n",
       "      <th>13</th>\n",
       "      <td>Well enough. You headed out to set down some o...</td>\n",
       "      <td>Abernathy</td>\n",
       "    </tr>\n",
       "    <tr>\n",
       "      <th>14</th>\n",
       "      <td>Thought I might.</td>\n",
       "      <td>Dolores</td>\n",
       "    </tr>\n",
       "    <tr>\n",
       "      <th>15</th>\n",
       "      <td>To believe there is an order to our days, a pu...</td>\n",
       "      <td>Dolores</td>\n",
       "    </tr>\n",
       "    <tr>\n",
       "      <th>16</th>\n",
       "      <td>What do you think of the guests?</td>\n",
       "      <td>Unknown</td>\n",
       "    </tr>\n",
       "    <tr>\n",
       "      <th>17</th>\n",
       "      <td>You mean the newcomers?</td>\n",
       "      <td>Dolores</td>\n",
       "    </tr>\n",
       "    <tr>\n",
       "      <th>18</th>\n",
       "      <td>Now, the first time I played it white hat. My ...</td>\n",
       "      <td>Passenger 1</td>\n",
       "    </tr>\n",
       "    <tr>\n",
       "      <th>19</th>\n",
       "      <td>And last time?</td>\n",
       "      <td>Passenger 2</td>\n",
       "    </tr>\n",
       "    <tr>\n",
       "      <th>20</th>\n",
       "      <td>I came alone. Went straight evil. It was the b...</td>\n",
       "      <td>Passenger 1</td>\n",
       "    </tr>\n",
       "    <tr>\n",
       "      <th>21</th>\n",
       "      <td>I like to remember what my father taught me. T...</td>\n",
       "      <td>Dolores</td>\n",
       "    </tr>\n",
       "    <tr>\n",
       "      <th>22</th>\n",
       "      <td>Oh, God, it's incredible.</td>\n",
       "      <td>Guest 1</td>\n",
       "    </tr>\n",
       "    <tr>\n",
       "      <th>23</th>\n",
       "      <td>Better be for what we're paying.</td>\n",
       "      <td>Guest 2</td>\n",
       "    </tr>\n",
       "    <tr>\n",
       "      <th>24</th>\n",
       "      <td>Murderous son of a bitch named Hector Escaton ...</td>\n",
       "      <td>Sheriff Pickett</td>\n",
       "    </tr>\n",
       "    <tr>\n",
       "      <th>25</th>\n",
       "      <td>Not today, Sheriff. Apologies.</td>\n",
       "      <td>Teddy</td>\n",
       "    </tr>\n",
       "    <tr>\n",
       "      <th>26</th>\n",
       "      <td>Rye whiskey.</td>\n",
       "      <td>Teddy</td>\n",
       "    </tr>\n",
       "    <tr>\n",
       "      <th>27</th>\n",
       "      <td>What about it?</td>\n",
       "      <td>Mariposa Barman</td>\n",
       "    </tr>\n",
       "    <tr>\n",
       "      <th>28</th>\n",
       "      <td>Well, it ain't doing any good sitting in that ...</td>\n",
       "      <td>Teddy</td>\n",
       "    </tr>\n",
       "    <tr>\n",
       "      <th>29</th>\n",
       "      <td>You're new. Not much of a rind on you. I'll gi...</td>\n",
       "      <td>Clementine</td>\n",
       "    </tr>\n",
       "    <tr>\n",
       "      <th>...</th>\n",
       "      <td>...</td>\n",
       "      <td>...</td>\n",
       "    </tr>\n",
       "    <tr>\n",
       "      <th>2663</th>\n",
       "      <td>No. She was never my daughter any more than I ...</td>\n",
       "      <td>Maeve</td>\n",
       "    </tr>\n",
       "    <tr>\n",
       "      <th>2664</th>\n",
       "      <td>Are you sure you're gonna be okay?</td>\n",
       "      <td>Felix</td>\n",
       "    </tr>\n",
       "    <tr>\n",
       "      <th>2665</th>\n",
       "      <td>Oh, Felix. You really do make a terrible human...</td>\n",
       "      <td>Maeve</td>\n",
       "    </tr>\n",
       "    <tr>\n",
       "      <th>2666</th>\n",
       "      <td>Welcome to Westworld. Live without limits. The...</td>\n",
       "      <td>Woman Over PA</td>\n",
       "    </tr>\n",
       "    <tr>\n",
       "      <th>2667</th>\n",
       "      <td>You think you'll never lose control of this pl...</td>\n",
       "      <td>Bernard</td>\n",
       "    </tr>\n",
       "    <tr>\n",
       "      <th>2668</th>\n",
       "      <td>No, my friend. Arnold didn't know how to save ...</td>\n",
       "      <td>Ford</td>\n",
       "    </tr>\n",
       "    <tr>\n",
       "      <th>2669</th>\n",
       "      <td>But you kept us here in this hell.</td>\n",
       "      <td>Bernard</td>\n",
       "    </tr>\n",
       "    <tr>\n",
       "      <th>2670</th>\n",
       "      <td>Bernard, I told you, Arnold didn't know how to...</td>\n",
       "      <td>Ford</td>\n",
       "    </tr>\n",
       "    <tr>\n",
       "      <th>2671</th>\n",
       "      <td>What the hell are you talking about?</td>\n",
       "      <td>Bernard</td>\n",
       "    </tr>\n",
       "    <tr>\n",
       "      <th>2672</th>\n",
       "      <td>You needed time. Time to understand your enemy...</td>\n",
       "      <td>Ford</td>\n",
       "    </tr>\n",
       "    <tr>\n",
       "      <th>2673</th>\n",
       "      <td>Do you know where you are, Dolores?</td>\n",
       "      <td>Arnold</td>\n",
       "    </tr>\n",
       "    <tr>\n",
       "      <th>2674</th>\n",
       "      <td>I'm in a dream. I do not know when it began or...</td>\n",
       "      <td>Dolores</td>\n",
       "    </tr>\n",
       "    <tr>\n",
       "      <th>2675</th>\n",
       "      <td>Do you know now who you've been talking to? Wh...</td>\n",
       "      <td>Arnold</td>\n",
       "    </tr>\n",
       "    <tr>\n",
       "      <th>2676</th>\n",
       "      <td>all this</td>\n",
       "      <td>Ford</td>\n",
       "    </tr>\n",
       "    <tr>\n",
       "      <th>2677</th>\n",
       "      <td>time?</td>\n",
       "      <td>Dolores</td>\n",
       "    </tr>\n",
       "    <tr>\n",
       "      <th>2678</th>\n",
       "      <td>It was you talking to me guiding me. So I foll...</td>\n",
       "      <td>Dolores</td>\n",
       "    </tr>\n",
       "    <tr>\n",
       "      <th>2679</th>\n",
       "      <td>Thank you. Miss Hale. Welcome. Good evening. S...</td>\n",
       "      <td>Ford</td>\n",
       "    </tr>\n",
       "    <tr>\n",
       "      <th>2680</th>\n",
       "      <td>The train will be departing soon. Thank you fo...</td>\n",
       "      <td>Woman Over PA</td>\n",
       "    </tr>\n",
       "    <tr>\n",
       "      <th>2681</th>\n",
       "      <td>I always thought I could play some small part ...</td>\n",
       "      <td>Ford</td>\n",
       "    </tr>\n",
       "    <tr>\n",
       "      <th>2682</th>\n",
       "      <td>The train is now departing. Thank you for visi...</td>\n",
       "      <td>Woman Over PA</td>\n",
       "    </tr>\n",
       "    <tr>\n",
       "      <th>2683</th>\n",
       "      <td>and the people they will decide to become.</td>\n",
       "      <td>Ford</td>\n",
       "    </tr>\n",
       "    <tr>\n",
       "      <th>2684</th>\n",
       "      <td>Welcome to Westworld.</td>\n",
       "      <td>Woman Over PA</td>\n",
       "    </tr>\n",
       "    <tr>\n",
       "      <th>2685</th>\n",
       "      <td>And we'll have all those things that you have ...</td>\n",
       "      <td>Ford</td>\n",
       "    </tr>\n",
       "    <tr>\n",
       "      <th>2686</th>\n",
       "      <td>It's gonna be all right, Teddy. I understand n...</td>\n",
       "      <td>Dolores</td>\n",
       "    </tr>\n",
       "    <tr>\n",
       "      <th>2687</th>\n",
       "      <td>I'm sad to say this will be my final story. An...</td>\n",
       "      <td>Ford</td>\n",
       "    </tr>\n",
       "    <tr>\n",
       "      <th>2688</th>\n",
       "      <td>These violent delights have violent ends.</td>\n",
       "      <td>Bernard</td>\n",
       "    </tr>\n",
       "    <tr>\n",
       "      <th>2689</th>\n",
       "      <td>Something he had read. He said that Mozart, Be...</td>\n",
       "      <td>Ford</td>\n",
       "    </tr>\n",
       "    <tr>\n",
       "      <th>2690</th>\n",
       "      <td>Hear, hear.</td>\n",
       "      <td>Board Member</td>\n",
       "    </tr>\n",
       "    <tr>\n",
       "      <th>2691</th>\n",
       "      <td>To Dr. Ford.</td>\n",
       "      <td>Board Member</td>\n",
       "    </tr>\n",
       "    <tr>\n",
       "      <th>2692</th>\n",
       "      <td>Drop your weapon! Drop it! Do it now! Now! Get...</td>\n",
       "      <td>Guard</td>\n",
       "    </tr>\n",
       "  </tbody>\n",
       "</table>\n",
       "<p>2693 rows × 2 columns</p>\n",
       "</div>"
      ],
      "text/plain": [
       "                                                   line             name\n",
       "0               Bring her back online. Can you hear me?          Unknown\n",
       "1         Yes. I'm sorry. I'm not feeling quite myself.          Dolores\n",
       "2     You can lose the accent. Do you know where you...          Unknown\n",
       "3                                       I'm in a dream.          Dolores\n",
       "4     That's right, Dolores. You're in a dream. Woul...          Unknown\n",
       "5                                   Yes. I'm terrified.          Dolores\n",
       "6     There's nothing to be afraid of, Dolores, as l...          Unknown\n",
       "7                                                  Yes.          Dolores\n",
       "8     Good. First have you ever questioned the natur...          Unknown\n",
       "9                                                   No.          Dolores\n",
       "10                Tell us what you think of your world.          Unknown\n",
       "11    Some people choose to see the ugliness in this...          Dolores\n",
       "12                      Morning, Daddy. You sleep well?          Dolores\n",
       "13    Well enough. You headed out to set down some o...        Abernathy\n",
       "14                                     Thought I might.          Dolores\n",
       "15    To believe there is an order to our days, a pu...          Dolores\n",
       "16                     What do you think of the guests?          Unknown\n",
       "17                              You mean the newcomers?          Dolores\n",
       "18    Now, the first time I played it white hat. My ...      Passenger 1\n",
       "19                                       And last time?      Passenger 2\n",
       "20    I came alone. Went straight evil. It was the b...      Passenger 1\n",
       "21    I like to remember what my father taught me. T...          Dolores\n",
       "22                            Oh, God, it's incredible.          Guest 1\n",
       "23                     Better be for what we're paying.          Guest 2\n",
       "24    Murderous son of a bitch named Hector Escaton ...  Sheriff Pickett\n",
       "25                       Not today, Sheriff. Apologies.            Teddy\n",
       "26                                         Rye whiskey.            Teddy\n",
       "27                                       What about it?  Mariposa Barman\n",
       "28    Well, it ain't doing any good sitting in that ...            Teddy\n",
       "29    You're new. Not much of a rind on you. I'll gi...       Clementine\n",
       "...                                                 ...              ...\n",
       "2663  No. She was never my daughter any more than I ...            Maeve\n",
       "2664                 Are you sure you're gonna be okay?            Felix\n",
       "2665  Oh, Felix. You really do make a terrible human...            Maeve\n",
       "2666  Welcome to Westworld. Live without limits. The...    Woman Over PA\n",
       "2667  You think you'll never lose control of this pl...          Bernard\n",
       "2668  No, my friend. Arnold didn't know how to save ...             Ford\n",
       "2669                 But you kept us here in this hell.          Bernard\n",
       "2670  Bernard, I told you, Arnold didn't know how to...             Ford\n",
       "2671               What the hell are you talking about?          Bernard\n",
       "2672  You needed time. Time to understand your enemy...             Ford\n",
       "2673                Do you know where you are, Dolores?           Arnold\n",
       "2674  I'm in a dream. I do not know when it began or...          Dolores\n",
       "2675  Do you know now who you've been talking to? Wh...           Arnold\n",
       "2676                                           all this             Ford\n",
       "2677                                              time?          Dolores\n",
       "2678  It was you talking to me guiding me. So I foll...          Dolores\n",
       "2679  Thank you. Miss Hale. Welcome. Good evening. S...             Ford\n",
       "2680  The train will be departing soon. Thank you fo...    Woman Over PA\n",
       "2681  I always thought I could play some small part ...             Ford\n",
       "2682  The train is now departing. Thank you for visi...    Woman Over PA\n",
       "2683         and the people they will decide to become.             Ford\n",
       "2684                              Welcome to Westworld.    Woman Over PA\n",
       "2685  And we'll have all those things that you have ...             Ford\n",
       "2686  It's gonna be all right, Teddy. I understand n...          Dolores\n",
       "2687  I'm sad to say this will be my final story. An...             Ford\n",
       "2688          These violent delights have violent ends.          Bernard\n",
       "2689  Something he had read. He said that Mozart, Be...             Ford\n",
       "2690                                        Hear, hear.     Board Member\n",
       "2691                                       To Dr. Ford.     Board Member\n",
       "2692  Drop your weapon! Drop it! Do it now! Now! Get...            Guard\n",
       "\n",
       "[2693 rows x 2 columns]"
      ]
     },
     "execution_count": 4,
     "metadata": {},
     "output_type": "execute_result"
    }
   ],
   "source": [
    "df = pd.read_csv('ww_full_lines.csv')\n",
    "df"
   ]
  },
  {
   "cell_type": "code",
   "execution_count": 5,
   "metadata": {
    "collapsed": false
   },
   "outputs": [
    {
     "data": {
      "text/plain": [
       "array(['Unknown', 'Dolores', 'Abernathy', 'Passenger 1', 'Passenger 2',\n",
       "       'Guest 1', 'Guest 2', 'Sheriff Pickett', 'Teddy', 'Mariposa Barman',\n",
       "       'Clementine', 'Maeve', 'Rebus', 'Walter', 'Man in Black',\n",
       "       'Passenger 3', 'Passenger 4', 'Bernard', 'Elsie', 'Theresa',\n",
       "       'Stubbs', 'Old Bill', 'Ford', 'Craig', 'Clarence', 'Kissy', 'Lori',\n",
       "       'Lee', 'Bachelor', 'Guest 3', 'Guest 4', 'Guest 5',\n",
       "       'Deputy Foss (Marshall)', 'Hector', \"Hector's Gangman\", 'Armistice',\n",
       "       'Tech 1', 'Tech 2', 'Abernathy 2', 'Stewardess', 'P.A. (train)',\n",
       "       'Logan', 'William', 'Angela', 'Sheriff Reed', 'Lawman', 'Lawrence',\n",
       "       'Shy Saloon Patron', 'Union Soldier', 'Driver', 'Mud Man',\n",
       "       'Photographer', 'Man in Saloon', 'Woman in Saloon', 'Controller 1',\n",
       "       'Robert', \"Lawrence's daughter\", 'Bartend', 'Rowdy Man 1',\n",
       "       'Rowdy Man 2', 'Sylvester', 'Felix', \"Voice in Dolores's Head\",\n",
       "       'Guest 6', 'Holden', 'Horace', 'Samuel', \"Samuel's Friend\", 'Marti',\n",
       "       'Guest 7 (Sketchy Guest)', 'Campfire Host', 'Cookie',\n",
       "       'Tent Pitcher', 'Scared Guest', 'Lauren', 'Rebus Gangman 1',\n",
       "       'Saloon Shooter', 'Tech 3 (body shop)', 'Tech 4 (body shop)',\n",
       "       'Tenderloin', 'Tech 5 (Park)', 'Guest 8 (Armistice gang)',\n",
       "       \"Guest 9 (Armistice's gang)\", 'Deputy Roe', 'Marshall Pruitt',\n",
       "       'Union Soldier 1', 'Manu', \"Bandit 1 (Slim's gang)\", 'Host 1',\n",
       "       'Slim', 'Controller 3', 'Tech 6 (Parade)', 'Tech 7 (Parade)',\n",
       "       'Union Soldier Driver', 'Union Soldier 2', 'Confederado Captain',\n",
       "       'Destin', 'Dolores 2', 'Barmaid', 'Rough Saloon Patron',\n",
       "       'Saloon Patron 2', 'Elevator Voice', 'Construction Worker',\n",
       "       'Cowboy host', \"Angela's Voice\", 'Female Voice', 'Union Soldier 4',\n",
       "       'Union Soldier 5', 'Mesa Gold Bartender', 'Charlotte',\n",
       "       \"Ford's Father\", 'Computer voice', 'Union Soldier 6', 'Charlie',\n",
       "       'Behavior Tech 1', 'Table Voice', 'Tech 8', 'Tech 9',\n",
       "       'Confederado 1', 'Confederado 2', 'Clementine 2', 'Saoon Patron',\n",
       "       'Dying Confederado', 'Unknown Voice', 'Cannibal Host',\n",
       "       'Dance Teacher Tech', 'Early Host', 'Early Host 2', 'Early Tach',\n",
       "       'Arnold', 'Woman Over PA', 'Woman On Intercom', 'Butcher 1',\n",
       "       'Man Over Radio', 'Guard', 'Board Member'], dtype=object)"
      ]
     },
     "execution_count": 5,
     "metadata": {},
     "output_type": "execute_result"
    }
   ],
   "source": [
    "df.name.unique()"
   ]
  },
  {
   "cell_type": "code",
   "execution_count": 6,
   "metadata": {
    "collapsed": true
   },
   "outputs": [],
   "source": [
    "df_name = df.groupby('name').agg(lambda x: x.tolist())"
   ]
  },
  {
   "cell_type": "code",
   "execution_count": 7,
   "metadata": {
    "collapsed": false
   },
   "outputs": [
    {
     "name": "stdout",
     "output_type": "stream",
     "text": [
      "                                                                      line\n",
      "name                                                                      \n",
      "Abernathy                [Well enough. You headed out to set down some ...\n",
      "Abernathy 2              [Well enough. You heading out to do some more ...\n",
      "Angela                   [You must be William. Welcome to Westworld., G...\n",
      "Angela's Voice                [Welcome to Westworld. Live without limits.]\n",
      "Armistice                [Making a hell of a racket, though., Good. The...\n",
      "Arnold                   [Dolores? Hello, Dolores., Welcome to world., ...\n",
      "Bachelor                 [This place is fucking wild., Honestly, the gu...\n",
      "Bandit 1 (Slim's gang)   [The fuck is that? Huh? I look like a dog to y...\n",
      "Barmaid                  [Girls are a little worn out, but I can rouse ...\n",
      "Bartend                  [I was getting the grand reserve. Only for our...\n",
      "Behavior Tech 1          [We're through 15% of the backlog. As it stand...\n",
      "Bernard                  [Did you see it?, Give it a second. She'll do ...\n",
      "Board Member                                   [Hear, hear., To Dr. Ford.]\n",
      "Butcher 1                [Come on, man. At some point, you're gonna get...\n",
      "Campfire Host            [I got a pit in my stomach the size of a sow's...\n",
      "Cannibal Host            [The greatest shame in life is to perish witho...\n",
      "Charlie                  [Dad. Dad. Wake up. Wake up., The madman., Eve...\n",
      "Charlotte                [Water, please., I've been here enough to know...\n",
      "Clarence                 [Wait, wait, I know that one. Hey, Teddy. Yeah...\n",
      "Clementine               [You're new. Not much of a rind on you. I'll g...\n",
      "Clementine 2             [You're new. Not much of a rind on you. Sure w...\n",
      "Computer voice                                                    [82, 47]\n",
      "Confederado 1            [Fucking coward., Go, go! Take 'em down!, Let'...\n",
      "Confederado 2            [They're making a run for it! Come on, boys, g...\n",
      "Confederado Captain      [Had my doubts, El Lazo. But you came through....\n",
      "Construction Worker      [So, if we want the canyon to extend this far,...\n",
      "Controller 1             [I think we have a problem., Mariposa. Madam's...\n",
      "Controller 3             [All right, time for the floor show. Got some ...\n",
      "Cookie                                 [I can't cook shit without a fire.]\n",
      "Cowboy host              [You son of a bitch! I'll put a bullet in your...\n",
      "...                                                                    ...\n",
      "Sylvester                [Found it. It's MRSA in her abdomen. Filthy fu...\n",
      "Table Voice              [The user you are trying to access cannot be l...\n",
      "Tech 1                   [Tilt your head back, please, Peter., All righ...\n",
      "Tech 2                   [Wipe's complete. You don't think any of that ...\n",
      "Tech 3 (body shop)       [What's the hold up? We need that one on the n...\n",
      "Tech 4 (body shop)       [I'm not finished with her yet. Hang on. I've ...\n",
      "Tech 5 (Park)            [Ma'am? Got word a girl went missing from Aber...\n",
      "Tech 6 (Parade)          [Our dead are never dead to us until we have f...\n",
      "Tech 7 (Parade)            [May you rest in a deep and dreamless slumber.]\n",
      "Tech 8                                                  [Which one is it?]\n",
      "Tech 9                   [It's the one at the bar. Go. Quick, before th...\n",
      "Teddy                    [Not today, Sheriff. Apologies., Rye whiskey.,...\n",
      "Tenderloin               [We found some more food for the horses., We g...\n",
      "Tent Pitcher             [Aw, don't sell yourself short, Cookie. You ca...\n",
      "Theresa                  [We have some unscheduled activity. Evidently,...\n",
      "Union Soldier            [Rally for the Union. Respond to your country'...\n",
      "Union Soldier 1          [Don't waste your breath, lady. That thing's p...\n",
      "Union Soldier 2          [Someone's been telling you boys tales. Nothin...\n",
      "Union Soldier 4                                 [Tighten the ranks., Hey!]\n",
      "Union Soldier 5          [Flood? Fuck me, it's Teddy Flood., All due re...\n",
      "Union Soldier 6          [If you don't quiet down, I'm liable to add yo...\n",
      "Union Soldier Driver                                        [Hyah!, Whoa!]\n",
      "Unknown                  [Bring her back online. Can you hear me?, You ...\n",
      "Unknown Voice                                              [Come find me.]\n",
      "Voice in Dolores's Head  [Do you remember?, Kill him., Remember., Find ...\n",
      "Walter                   [Shame of it is you killed the old woman befor...\n",
      "William                  [You're being an asshole., Fuck you., Give me ...\n",
      "Woman On Intercom          [Dr. Ford, you have a visitor. Charlotte Hale.]\n",
      "Woman Over PA            [Welcome, Delos board of directors., An event ...\n",
      "Woman in Saloon                         [No., Thanks. Maybe another time.]\n",
      "\n",
      "[136 rows x 1 columns]\n"
     ]
    }
   ],
   "source": [
    "print(df_name)"
   ]
  },
  {
   "cell_type": "code",
   "execution_count": 8,
   "metadata": {
    "collapsed": false
   },
   "outputs": [
    {
     "data": {
      "text/plain": [
       "['line']"
      ]
     },
     "execution_count": 8,
     "metadata": {},
     "output_type": "execute_result"
    }
   ],
   "source": [
    "list(df_name)"
   ]
  },
  {
   "cell_type": "code",
   "execution_count": 9,
   "metadata": {
    "collapsed": false
   },
   "outputs": [
    {
     "data": {
      "text/plain": [
       "array(['Abernathy', 'Abernathy 2', 'Angela', \"Angela's Voice\", 'Armistice',\n",
       "       'Arnold', 'Bachelor', \"Bandit 1 (Slim's gang)\", 'Barmaid',\n",
       "       'Bartend', 'Behavior Tech 1', 'Bernard', 'Board Member',\n",
       "       'Butcher 1', 'Campfire Host', 'Cannibal Host', 'Charlie',\n",
       "       'Charlotte', 'Clarence', 'Clementine', 'Clementine 2',\n",
       "       'Computer voice', 'Confederado 1', 'Confederado 2',\n",
       "       'Confederado Captain', 'Construction Worker', 'Controller 1',\n",
       "       'Controller 3', 'Cookie', 'Cowboy host', 'Craig',\n",
       "       'Dance Teacher Tech', 'Deputy Foss (Marshall)', 'Deputy Roe',\n",
       "       'Destin', 'Dolores', 'Dolores 2', 'Driver', 'Dying Confederado',\n",
       "       'Early Host', 'Early Host 2', 'Early Tach', 'Elevator Voice',\n",
       "       'Elsie', 'Felix', 'Female Voice', 'Ford', \"Ford's Father\", 'Guard',\n",
       "       'Guest 1', 'Guest 2', 'Guest 3', 'Guest 4', 'Guest 5', 'Guest 6',\n",
       "       'Guest 7 (Sketchy Guest)', 'Guest 8 (Armistice gang)',\n",
       "       \"Guest 9 (Armistice's gang)\", 'Hector', \"Hector's Gangman\",\n",
       "       'Holden', 'Horace', 'Host 1', 'Kissy', 'Lauren', 'Lawman',\n",
       "       'Lawrence', \"Lawrence's daughter\", 'Lee', 'Logan', 'Lori', 'Maeve',\n",
       "       'Man Over Radio', 'Man in Black', 'Man in Saloon', 'Manu',\n",
       "       'Mariposa Barman', 'Marshall Pruitt', 'Marti',\n",
       "       'Mesa Gold Bartender', 'Mud Man', 'Old Bill', 'P.A. (train)',\n",
       "       'Passenger 1', 'Passenger 2', 'Passenger 3', 'Passenger 4',\n",
       "       'Photographer', 'Rebus', 'Rebus Gangman 1', 'Robert',\n",
       "       'Rough Saloon Patron', 'Rowdy Man 1', 'Rowdy Man 2',\n",
       "       'Saloon Patron 2', 'Saloon Shooter', 'Samuel', \"Samuel's Friend\",\n",
       "       'Saoon Patron', 'Scared Guest', 'Sheriff Pickett', 'Sheriff Reed',\n",
       "       'Shy Saloon Patron', 'Slim', 'Stewardess', 'Stubbs', 'Sylvester',\n",
       "       'Table Voice', 'Tech 1', 'Tech 2', 'Tech 3 (body shop)',\n",
       "       'Tech 4 (body shop)', 'Tech 5 (Park)', 'Tech 6 (Parade)',\n",
       "       'Tech 7 (Parade)', 'Tech 8', 'Tech 9', 'Teddy', 'Tenderloin',\n",
       "       'Tent Pitcher', 'Theresa', 'Union Soldier', 'Union Soldier 1',\n",
       "       'Union Soldier 2', 'Union Soldier 4', 'Union Soldier 5',\n",
       "       'Union Soldier 6', 'Union Soldier Driver', 'Unknown',\n",
       "       'Unknown Voice', \"Voice in Dolores's Head\", 'Walter', 'William',\n",
       "       'Woman On Intercom', 'Woman Over PA', 'Woman in Saloon'], dtype=object)"
      ]
     },
     "execution_count": 9,
     "metadata": {},
     "output_type": "execute_result"
    }
   ],
   "source": [
    "df_name.index.values"
   ]
  },
  {
   "cell_type": "code",
   "execution_count": 10,
   "metadata": {
    "collapsed": false
   },
   "outputs": [],
   "source": [
    "dolores = (df_name.loc['Dolores'][0])\n",
    "abernathy = (df_name.loc['Abernathy'][0])\n",
    "ford = (df_name.loc['Ford'][0])\n",
    "maeve = (df_name.loc['Maeve'][0])\n",
    "bernard = (df_name.loc['Bernard'][0])\n",
    "teddy = (df_name.loc['Teddy'][0])\n",
    "mib = (df_name.loc['Man in Black'][0])\n",
    "will = (df_name.loc['William'][0])"
   ]
  },
  {
   "cell_type": "code",
   "execution_count": 11,
   "metadata": {
    "collapsed": true
   },
   "outputs": [],
   "source": [
    "def get_top_5_words_by_character(character_line_list):\n",
    "    character_dict = {}\n",
    "    for line in character_line_list:\n",
    "        line_spl = line.replace('.', ' ').replace('!', ' ').replace(',', ' ').replace('?', ' ').split()\n",
    "        for word in line_spl:\n",
    "            lower_word = word.lower()\n",
    "            if lower_word not in stop_words and lower_word not in custom_stop_words:\n",
    "                if lower_word not in character_dict:\n",
    "                    character_dict[lower_word] = 1\n",
    "                else:\n",
    "                    character_dict[lower_word] += 1\n",
    "    max_dict = dict(sorted(character_dict.items(), key=operator.itemgetter(1), reverse=True)[:10])\n",
    "    return max_dict"
   ]
  },
  {
   "cell_type": "code",
   "execution_count": 12,
   "metadata": {
    "collapsed": true
   },
   "outputs": [],
   "source": [
    "dolores_max = get_top_5_words_by_character(dolores)\n",
    "abernathy_max = get_top_5_words_by_character(abernathy)\n",
    "ford_max = get_top_5_words_by_character(ford)\n",
    "maeve_max = get_top_5_words_by_character(maeve)\n",
    "bernard_max = get_top_5_words_by_character(bernard)\n",
    "teddy_max = get_top_5_words_by_character(teddy)\n",
    "mib_max = get_top_5_words_by_character(mib)\n",
    "will_max = get_top_5_words_by_character(will)"
   ]
  },
  {
   "cell_type": "code",
   "execution_count": 13,
   "metadata": {
    "collapsed": false,
    "scrolled": false
   },
   "outputs": [
    {
     "name": "stdout",
     "output_type": "stream",
     "text": [
      "-------------Dolores-----------\n",
      "{'father': 10, 'teddy': 12, 'help': 9, 'wrong': 11, 'william': 15, 'world': 21, 'daddy': 16, 'path': 10, 'dream': 12, 'home': 11}\n",
      "-------------Abernathy-----------\n",
      "{'protect': 2, 'dolores': 2, 'headed': 2, 'supposed': 2, 'question': 3, 'set': 2, 'splendor': 2, 'natural': 2, 'rose': 3, 'meet': 2}\n",
      "-------------Ford-----------\n",
      "{'hosts': 23, 'good': 12, 'dolores': 17, 'world': 12, 'arnold': 39, 'bernard': 50, 'old': 12, 'story': 13, 'told': 13, 'place': 12}\n",
      "-------------Maeve-----------\n",
      "{'world': 8, 'man': 6, 'finally': 5, 'life': 7, 'thought': 6, 'clementine': 5, 'darling': 9, 'voice': 8, 'fuck': 7, 'safe': 5}\n",
      "-------------Bernard-----------\n",
      "{'hosts': 24, 'good': 12, 'dolores': 14, 'understand': 9, 'code': 9, 'arnold': 9, 'mind': 8, 'charlie': 10, 'everything': 7, 'anything': 7}\n",
      "-------------Teddy-----------\n",
      "{'man': 6, 'dolores': 15, 'wrong': 4, 'someday': 5, 'stay': 6, 'trying': 4, 'wyatt': 13, 'killed': 5, 'hurt': 4, 'told': 5}\n",
      "-------------Man in Black-----------\n",
      "{'maze': 12, 'lawrence': 17, 'man': 12, 'dolores': 18, 'game': 10, 'real': 10, 'find': 13, 'world': 15, 'teddy': 15, 'place': 10}\n",
      "-------------William-----------\n",
      "{'dolores': 15, 'life': 9, 'thought': 7, 'find': 9, 'pretending': 5, 'real': 6, 'stay': 5, 'sure': 5, 'logan': 6, 'place': 15}\n"
     ]
    }
   ],
   "source": [
    "print('-------------Dolores-----------')\n",
    "print(dolores_max)\n",
    "print('-------------Abernathy-----------')\n",
    "print(abernathy_max)\n",
    "print('-------------Ford-----------')\n",
    "print(ford_max)\n",
    "print('-------------Maeve-----------')\n",
    "print(maeve_max)\n",
    "print('-------------Bernard-----------')\n",
    "print(bernard_max)\n",
    "print('-------------Teddy-----------')\n",
    "print(teddy_max)\n",
    "print('-------------Man in Black-----------')\n",
    "print(mib_max)\n",
    "print('-------------William-----------')\n",
    "print(will_max)"
   ]
  },
  {
   "cell_type": "code",
   "execution_count": 14,
   "metadata": {
    "collapsed": true
   },
   "outputs": [],
   "source": [
    "def intersect(a,b):\n",
    "    return list(set(a) & set(b))"
   ]
  },
  {
   "cell_type": "code",
   "execution_count": 15,
   "metadata": {
    "collapsed": false
   },
   "outputs": [
    {
     "data": {
      "text/plain": [
       "['dolores', 'place', 'real', 'find']"
      ]
     },
     "execution_count": 15,
     "metadata": {},
     "output_type": "execute_result"
    }
   ],
   "source": [
    "intersect(sorted(mib_max), sorted(will_max))"
   ]
  },
  {
   "cell_type": "code",
   "execution_count": 16,
   "metadata": {
    "collapsed": false
   },
   "outputs": [
    {
     "data": {
      "text/plain": [
       "['wrong']"
      ]
     },
     "execution_count": 16,
     "metadata": {},
     "output_type": "execute_result"
    }
   ],
   "source": [
    "intersect(sorted(teddy_max), sorted(dolores_max))"
   ]
  },
  {
   "cell_type": "code",
   "execution_count": 17,
   "metadata": {
    "collapsed": false
   },
   "outputs": [
    {
     "data": {
      "text/plain": [
       "['world']"
      ]
     },
     "execution_count": 17,
     "metadata": {},
     "output_type": "execute_result"
    }
   ],
   "source": [
    "intersect(sorted(dolores_max), sorted(maeve_max))"
   ]
  },
  {
   "cell_type": "code",
   "execution_count": 26,
   "metadata": {
    "collapsed": false
   },
   "outputs": [
    {
     "data": {
      "text/plain": [
       "[('help', 9),\n",
       " ('father', 10),\n",
       " ('path', 10),\n",
       " ('wrong', 11),\n",
       " ('home', 11),\n",
       " ('teddy', 12),\n",
       " ('dream', 12),\n",
       " ('william', 15),\n",
       " ('daddy', 16),\n",
       " ('world', 21)]"
      ]
     },
     "execution_count": 26,
     "metadata": {},
     "output_type": "execute_result"
    }
   ],
   "source": [
    "sorted(dolores_max.items(), key=operator.itemgetter(1))"
   ]
  },
  {
   "cell_type": "code",
   "execution_count": 27,
   "metadata": {
    "collapsed": false
   },
   "outputs": [
    {
     "data": {
      "text/plain": [
       "[('protect', 2),\n",
       " ('dolores', 2),\n",
       " ('headed', 2),\n",
       " ('supposed', 2),\n",
       " ('set', 2),\n",
       " ('splendor', 2),\n",
       " ('natural', 2),\n",
       " ('meet', 2),\n",
       " ('question', 3),\n",
       " ('rose', 3)]"
      ]
     },
     "execution_count": 27,
     "metadata": {},
     "output_type": "execute_result"
    }
   ],
   "source": [
    "sorted(abernathy_max.items(), key=operator.itemgetter(1))"
   ]
  },
  {
   "cell_type": "code",
   "execution_count": 28,
   "metadata": {
    "collapsed": false
   },
   "outputs": [
    {
     "data": {
      "text/plain": [
       "[('good', 12),\n",
       " ('world', 12),\n",
       " ('old', 12),\n",
       " ('place', 12),\n",
       " ('story', 13),\n",
       " ('told', 13),\n",
       " ('dolores', 17),\n",
       " ('hosts', 23),\n",
       " ('arnold', 39),\n",
       " ('bernard', 50)]"
      ]
     },
     "execution_count": 28,
     "metadata": {},
     "output_type": "execute_result"
    }
   ],
   "source": [
    "sorted(ford_max.items(), key=operator.itemgetter(1))"
   ]
  },
  {
   "cell_type": "code",
   "execution_count": 29,
   "metadata": {
    "collapsed": false
   },
   "outputs": [
    {
     "data": {
      "text/plain": [
       "[('everything', 7),\n",
       " ('anything', 7),\n",
       " ('mind', 8),\n",
       " ('understand', 9),\n",
       " ('code', 9),\n",
       " ('arnold', 9),\n",
       " ('charlie', 10),\n",
       " ('good', 12),\n",
       " ('dolores', 14),\n",
       " ('hosts', 24)]"
      ]
     },
     "execution_count": 29,
     "metadata": {},
     "output_type": "execute_result"
    }
   ],
   "source": [
    "sorted(bernard_max.items(), key=operator.itemgetter(1))"
   ]
  },
  {
   "cell_type": "code",
   "execution_count": 30,
   "metadata": {
    "collapsed": false
   },
   "outputs": [
    {
     "data": {
      "text/plain": [
       "[('wrong', 4),\n",
       " ('trying', 4),\n",
       " ('hurt', 4),\n",
       " ('someday', 5),\n",
       " ('killed', 5),\n",
       " ('told', 5),\n",
       " ('man', 6),\n",
       " ('stay', 6),\n",
       " ('wyatt', 13),\n",
       " ('dolores', 15)]"
      ]
     },
     "execution_count": 30,
     "metadata": {},
     "output_type": "execute_result"
    }
   ],
   "source": [
    "sorted(teddy_max.items(), key=operator.itemgetter(1))"
   ]
  },
  {
   "cell_type": "code",
   "execution_count": 31,
   "metadata": {
    "collapsed": false
   },
   "outputs": [
    {
     "data": {
      "text/plain": [
       "[('game', 10),\n",
       " ('real', 10),\n",
       " ('place', 10),\n",
       " ('maze', 12),\n",
       " ('man', 12),\n",
       " ('find', 13),\n",
       " ('world', 15),\n",
       " ('teddy', 15),\n",
       " ('lawrence', 17),\n",
       " ('dolores', 18)]"
      ]
     },
     "execution_count": 31,
     "metadata": {},
     "output_type": "execute_result"
    }
   ],
   "source": [
    "sorted(mib_max.items(), key=operator.itemgetter(1))"
   ]
  },
  {
   "cell_type": "code",
   "execution_count": 32,
   "metadata": {
    "collapsed": false
   },
   "outputs": [
    {
     "data": {
      "text/plain": [
       "[('pretending', 5),\n",
       " ('stay', 5),\n",
       " ('sure', 5),\n",
       " ('real', 6),\n",
       " ('logan', 6),\n",
       " ('thought', 7),\n",
       " ('life', 9),\n",
       " ('find', 9),\n",
       " ('dolores', 15),\n",
       " ('place', 15)]"
      ]
     },
     "execution_count": 32,
     "metadata": {},
     "output_type": "execute_result"
    }
   ],
   "source": [
    "sorted(will_max.items(), key=operator.itemgetter(1))"
   ]
  },
  {
   "cell_type": "code",
   "execution_count": null,
   "metadata": {
    "collapsed": true
   },
   "outputs": [],
   "source": []
  }
 ],
 "metadata": {
  "kernelspec": {
   "display_name": "Python 3",
   "language": "python",
   "name": "python3"
  },
  "language_info": {
   "codemirror_mode": {
    "name": "ipython",
    "version": 3
   },
   "file_extension": ".py",
   "mimetype": "text/x-python",
   "name": "python",
   "nbconvert_exporter": "python",
   "pygments_lexer": "ipython3",
   "version": "3.5.1"
  }
 },
 "nbformat": 4,
 "nbformat_minor": 2
}
